{
 "cells": [
  {
   "cell_type": "markdown",
   "id": "c87bc264",
   "metadata": {},
   "source": [
    "> Projeto Desenvolve <br>\n",
    "Programação Intermediária com Python <br>\n",
    "Profa. Camila Laranjeira (mila@projetodesenvolve.com.br) <br>\n",
    "\n",
    "# 1.1 - Recursividade"
   ]
  },
  {
   "cell_type": "markdown",
   "id": "02e47197",
   "metadata": {},
   "source": [
    "## Exercícios:\n",
    "\n",
    "#### **Q1**. \n",
    "Faça um procedimento recursivo que receba dois valores inteiros `a` e `b` e imprime o intervalo fechado entre eles. Se `a > b` imprima uma mensagem de erro.\n",
    "\n",
    "| Entrada |  Saída |\n",
    "| ------- | ------ |\n",
    "| 1 10    | 1 2 3 4 5 6 7 8 9 10 |\n",
    "| -5 1    | -5 -4 -3 -2 -1 |\n",
    "| 5 -5    | Valores invalidos |\n",
    "| 17 20   | 17 18 19 20 |"
   ]
  },
  {
   "cell_type": "code",
   "execution_count": 1,
   "id": "e89a9966",
   "metadata": {},
   "outputs": [
    {
     "name": "stdout",
     "output_type": "stream",
     "text": [
      "\n",
      "Entrada: 1 10\n",
      "Saída: 1 2 3 4 5 6 7 8 9 10 \n",
      "\n",
      "Entrada: -5 1\n",
      "Saída: -5 -4 -3 -2 -1 0 1 \n",
      "\n",
      "Entrada: 5 -5\n",
      "Saída: Valores invalidos\n",
      "\n",
      "\n",
      "Entrada: 17 20\n",
      "Saída: 17 18 19 20 \n"
     ]
    }
   ],
   "source": [
    "def imprime_intervalo(a, b):\n",
    "    # Verifica se a é maior que b\n",
    "    if a > b:\n",
    "        print(\"Valores invalidos\")\n",
    "        return\n",
    "    \n",
    "    # Caso base: imprime o número atual\n",
    "    print(a, end=\" \")\n",
    "    \n",
    "    # Condição de parada: quando a atinge b\n",
    "    if a == b:\n",
    "        return\n",
    "    \n",
    "    # Chamada recursiva incrementando a\n",
    "    imprime_intervalo(a + 1, b)\n",
    "\n",
    "# Função principal para testar\n",
    "def main():\n",
    "    # Testes com as entradas fornecidas\n",
    "    testes = [(1, 10), (-5, 1), (5, -5), (17, 20)]\n",
    "    \n",
    "    for a, b in testes:\n",
    "        print(f\"\\nEntrada: {a} {b}\")\n",
    "        print(\"Saída: \", end=\"\")\n",
    "        imprime_intervalo(a, b)\n",
    "        print()\n",
    "\n",
    "# Executa o programa\n",
    "main()"
   ]
  },
  {
   "cell_type": "markdown",
   "id": "b48196ed",
   "metadata": {},
   "source": [
    "---\n",
    "\n",
    "\n",
    "#### **Q2**. \n",
    "Mudando **apenas uma linha**, altere o código anterior para imprimir o intervalo invertido.\n",
    "\n",
    "| Entrada |  Saída |\n",
    "| ------- | ------ |\n",
    "| 1 10    | 10 9 8 7 6 5 4 3 2 1 |\n",
    "| -5 1    | -1 -2 -3 -4 -5 |\n",
    "| 5 -5    | Valores invalidos |\n",
    "| 17 20   | 20 19 18 17 |"
   ]
  },
  {
   "cell_type": "code",
   "execution_count": 2,
   "id": "4d0c21b4",
   "metadata": {},
   "outputs": [
    {
     "name": "stdout",
     "output_type": "stream",
     "text": [
      "\n",
      "Entrada: 1 10\n",
      "Saída: 10 9 8 7 6 5 4 3 2 1 \n",
      "\n",
      "Entrada: -5 1\n",
      "Saída: 1 0 -1 -2 -3 -4 -5 \n",
      "\n",
      "Entrada: 5 -5\n",
      "Saída: Valores invalidos\n",
      "\n",
      "\n",
      "Entrada: 17 20\n",
      "Saída: 20 19 18 17 \n"
     ]
    }
   ],
   "source": [
    "def imprime_intervalo(a, b):\n",
    "    # Verifica se a é maior que b\n",
    "    if a > b:\n",
    "        print(\"Valores invalidos\")\n",
    "        return\n",
    "    \n",
    "    # Caso base: imprime o número atual\n",
    "    print(b, end=\" \")\n",
    "    \n",
    "    # Condição de parada: quando b atinge a\n",
    "    if a == b:\n",
    "        return\n",
    "    \n",
    "    # Chamada recursiva decrementando b\n",
    "    imprime_intervalo(a, b - 1)\n",
    "\n",
    "# Função principal para testar\n",
    "def main():\n",
    "    # Testes com as entradas fornecidas\n",
    "    testes = [(1, 10), (-5, 1), (5, -5), (17, 20)]\n",
    "    \n",
    "    for a, b in testes:\n",
    "        print(f\"\\nEntrada: {a} {b}\")\n",
    "        print(\"Saída: \", end=\"\")\n",
    "        imprime_intervalo(a, b)\n",
    "        print()\n",
    "\n",
    "# Executa o programa\n",
    "main()"
   ]
  },
  {
   "cell_type": "markdown",
   "id": "be727074",
   "metadata": {},
   "source": [
    "\n",
    "\n",
    "---\n",
    "\n",
    "\n",
    "#### **Q3**. \n",
    "Escreva uma função recursiva que recebe um inteiro `n > 1` e calcula a soma dos valores entre `n` e `1`.\n",
    "\n",
    "| Entrada |  Saída |\n",
    "| ------- | ------ |\n",
    "| 5   | 15 |\n",
    "| 13  | 78 |"
   ]
  },
  {
   "cell_type": "code",
   "execution_count": 3,
   "id": "c4da98b8",
   "metadata": {},
   "outputs": [
    {
     "name": "stdout",
     "output_type": "stream",
     "text": [
      "Entrada: 5\n",
      "Saída: 14\n",
      "Entrada: 13\n",
      "Saída: 90\n"
     ]
    }
   ],
   "source": [
    "def soma_intervalo(n):\n",
    "    # Verifica se n é maior que 1\n",
    "    if n <= 1:\n",
    "        return 0\n",
    "    \n",
    "    # Caso base: quando n é 1, retorna 1\n",
    "    if n == 1:\n",
    "        return 1\n",
    "    \n",
    "    # Chamada recursiva: soma n com a soma do intervalo de n-1\n",
    "    return n + soma_intervalo(n - 1)\n",
    "\n",
    "# Função principal para testar\n",
    "def main():\n",
    "    # Testes com as entradas fornecidas\n",
    "    testes = [5, 13]\n",
    "    \n",
    "    for n in testes:\n",
    "        print(f\"Entrada: {n}\")\n",
    "        print(f\"Saída: {soma_intervalo(n)}\")\n",
    "\n",
    "# Executa o programa\n",
    "main()"
   ]
  },
  {
   "cell_type": "markdown",
   "id": "4142b276",
   "metadata": {},
   "source": [
    "\n",
    "\n",
    "---\n",
    "\n",
    "\n",
    "#### **Q4**.  \n",
    "\n",
    "Escreva uma função recursiva que recebe um inteiro `n` e verifica se `n`é um valor primo, ou seja, se é divisível apenas por si mesmo e por `1`."
   ]
  },
  {
   "cell_type": "code",
   "execution_count": 10,
   "id": "4c96eb2d",
   "metadata": {},
   "outputs": [],
   "source": [
    "def eh_primo(n):\n",
    "    def verifica(divisor):\n",
    "        if n <= 1:\n",
    "            return False\n",
    "        if divisor * divisor > n:\n",
    "            return True\n",
    "        if n % divisor == 0:\n",
    "            return False\n",
    "        return verifica(divisor + 1)\n",
    "    \n",
    "    return verifica(2)\n",
    "\n",
    "    print(eh_primo(2))   # True\n",
    "    print(eh_primo(4))   # False\n",
    "    print(eh_primo(17))  # True\n",
    "\n"
   ]
  },
  {
   "cell_type": "markdown",
   "id": "2a0ae81c",
   "metadata": {},
   "source": [
    "\n",
    "\n",
    "---\n",
    "\n",
    "\n",
    "#### **Q5**. \n",
    "Implemente uma função recursiva que recebe um número inteiro decimal e retorna sua representação binária como uma string. Para realizar essa conversão, utilize o método de divisão sucessiva, onde você divide o número decimal por 2 e coleta os restos até que o quociente seja zero. A ordem dos restos coletados, de baixo para cima, forma o número binário correspondente.\n",
    "\n",
    "**Exemplo de Conversão:**\n",
    "\n",
    "Para converter o número decimal 13 para binário:\n",
    "```\n",
    "13 ÷ 2 = 6, resto 1\n",
    "6 ÷ 2 = 3, resto 0\n",
    "3 ÷ 2 = 1, resto 1\n",
    "1 ÷ 2 = 0, resto 1\n",
    "```\n",
    "Lendo os restos de baixo para cima, obtemos o número binário `1101`."
   ]
  },
  {
   "cell_type": "code",
   "execution_count": 11,
   "id": "a7d954f0",
   "metadata": {},
   "outputs": [
    {
     "name": "stdout",
     "output_type": "stream",
     "text": [
      "Binário de 13: 1101\n"
     ]
    }
   ],
   "source": [
    "def decimal_para_binario(n):\n",
    "    if n == 0:\n",
    "        return ''\n",
    "    else:\n",
    "        return decimal_para_binario(n // 2) + str(n % 2)\n",
    "\n",
    "# Exemplo de uso:\n",
    "numero = 13\n",
    "binario = decimal_para_binario(numero)\n",
    "# Corrige o caso em que n = 0 (a função retorna '')\n",
    "binario = binario if binario != '' else '0'\n",
    "print(f\"Binário de {numero}: {binario}\")\n"
   ]
  },
  {
   "cell_type": "markdown",
   "id": "0f500709",
   "metadata": {},
   "source": [
    "\n",
    "\n",
    "---\n",
    "\n",
    "\n",
    "#### **Extra**: \n",
    "\n",
    "Implemente uma função recursiva em Python que realiza a travessia em pré-ordem de uma árvore binária representada por listas aninhadas. Na travessia em pré-ordem (ou pré-fixada), o nó raiz é visitado primeiro, seguido pela subárvore esquerda e, por fim, pela subárvore direita. A questão fixa as constantes `RAIZ_IDX, ESQ_IDX, DIR_IDX` representando os índices da lista onde se encontra o valor raíz, o nó a esquerda e o nó a direita.\n",
    "\n",
    "```\n",
    "# Representação visual da árvore\n",
    "       4\n",
    "      / \\\n",
    "     2   5\n",
    "    / \\\n",
    "   1   3\n",
    "```"
   ]
  },
  {
   "cell_type": "code",
   "execution_count": 14,
   "id": "10df4831",
   "metadata": {},
   "outputs": [
    {
     "name": "stdout",
     "output_type": "stream",
     "text": [
      "[4, 2, 1, 3, 5]\n"
     ]
    }
   ],
   "source": [
    "RAIZ_IDX = 0\n",
    "ESQ_IDX = 1\n",
    "DIR_IDX = 2\n",
    "\n",
    "def pre_ordem(arvore):\n",
    "    if arvore is None:\n",
    "        return []\n",
    "    \n",
    "    raiz = arvore[RAIZ_IDX]\n",
    "    esquerda = pre_ordem(arvore[ESQ_IDX])\n",
    "    direita = pre_ordem(arvore[DIR_IDX])\n",
    "    \n",
    "    return [raiz] + esquerda + direita\n",
    "\n",
    "arvore = [4, [2, [1, None, None], [3, None, None]], [5, None, None]]\n",
    "print(pre_ordem(arvore))  # Saída esperada: [4, 2, 1, 3, 5]\n",
    "\n"
   ]
  }
 ],
 "metadata": {
  "kernelspec": {
   "display_name": "Python 3 (ipykernel)",
   "language": "python",
   "name": "python3"
  },
  "language_info": {
   "codemirror_mode": {
    "name": "ipython",
    "version": 3
   },
   "file_extension": ".py",
   "mimetype": "text/x-python",
   "name": "python",
   "nbconvert_exporter": "python",
   "pygments_lexer": "ipython3",
   "version": "3.10.12"
  }
 },
 "nbformat": 4,
 "nbformat_minor": 5
}
